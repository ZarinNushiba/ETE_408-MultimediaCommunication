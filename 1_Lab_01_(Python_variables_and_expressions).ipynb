{
  "nbformat": 4,
  "nbformat_minor": 0,
  "metadata": {
    "colab": {
      "name": "1.Lab-01 (Python variables and expressions).ipynb",
      "provenance": [],
      "collapsed_sections": [],
      "include_colab_link": true
    },
    "kernelspec": {
      "name": "python3",
      "display_name": "Python 3"
    },
    "language_info": {
      "name": "python"
    }
  },
  "cells": [
    {
      "cell_type": "markdown",
      "metadata": {
        "id": "view-in-github",
        "colab_type": "text"
      },
      "source": [
        "<a href=\"https://colab.research.google.com/github/ZarinNushiba/ETE_408-MultimediaCommunication/blob/main/1_Lab_01_(Python_variables_and_expressions).ipynb\" target=\"_parent\"><img src=\"https://colab.research.google.com/assets/colab-badge.svg\" alt=\"Open In Colab\"/></a>"
      ]
    },
    {
      "cell_type": "markdown",
      "metadata": {
        "id": "-UYuDbfvjO50"
      },
      "source": [
        "#ETE-407 Multimedia Communication Sessional\n",
        "\n",
        "Lab-01: **Introduction to Python Variables, Expressions and Statements**\n",
        "\n",
        "\n",
        "> Objective: \n",
        " 1. *Get familiar with the Python variables, expressions and statements as well as different operators and  their various oprerations.*"
      ]
    },
    {
      "cell_type": "markdown",
      "metadata": {
        "id": "siGFB2Uilq8r"
      },
      "source": [
        "**Values and Types**\n",
        "\n",
        "A value is one of the basic things a program works with, like a letter or a number.\n",
        "**`1, 2, and “Hello, World!”`** all are the different values.\n",
        "These values belong to different types: **`2 is an integer`**, and \n",
        "**`“Hello,World!” is a string`**, so called because it contains a `“string”` of letters. \n",
        "**The print statement** is used to print any values. "
      ]
    },
    {
      "cell_type": "code",
      "metadata": {
        "id": "PBalqZPTT6ya",
        "colab": {
          "base_uri": "https://localhost:8080/"
        },
        "outputId": "b2e66831-7b72-4a2e-c768-1c45078d1201"
      },
      "source": [
        " ##   \n",
        "print(4)\n",
        "\n",
        "#If you are not sure what type a value has, the interpreter can tell you.\n",
        "print(type('Hello, World!'))\n",
        "print(type(17))\n",
        "print(type(3.2))"
      ],
      "execution_count": null,
      "outputs": [
        {
          "output_type": "stream",
          "name": "stdout",
          "text": [
            "4\n",
            "<class 'str'>\n",
            "<class 'int'>\n",
            "<class 'float'>\n"
          ]
        }
      ]
    },
    {
      "cell_type": "markdown",
      "metadata": {
        "id": "JiQTfmiKm_5L"
      },
      "source": [
        "What about values like `“17”` and `“3.2”` ? They look like numbers, but they are in\n",
        "quotation marks like strings."
      ]
    },
    {
      "cell_type": "code",
      "metadata": {
        "id": "ez5zSbNmm-xs",
        "colab": {
          "base_uri": "https://localhost:8080/"
        },
        "outputId": "c7f34edd-da58-417c-9e7a-a4b2b0135e7d"
      },
      "source": [
        "type('17')\n",
        "type('3.2')\n",
        "\n",
        "#They’re strings."
      ],
      "execution_count": null,
      "outputs": [
        {
          "output_type": "execute_result",
          "data": {
            "text/plain": [
              "str"
            ]
          },
          "metadata": {},
          "execution_count": 1
        }
      ]
    },
    {
      "cell_type": "markdown",
      "metadata": {
        "id": "k9b7y7m_nPld"
      },
      "source": [
        "**Variables**\n",
        "\n",
        "One of the most powerful features of a programming language is the ability to\n",
        "manipulate variables. A variable is a name that refers to a value.\n",
        "An assignment statement creates new variables and gives them values: You can think of variables as a bag to store books in it and that book can be replaced at any time"
      ]
    },
    {
      "cell_type": "code",
      "metadata": {
        "id": "CAwfDiQtQi9V"
      },
      "source": [
        "number = 10\n",
        "number = 1.1"
      ],
      "execution_count": null,
      "outputs": []
    },
    {
      "cell_type": "code",
      "metadata": {
        "id": "RYhSB7p_nQoa",
        "colab": {
          "base_uri": "https://localhost:8080/"
        },
        "outputId": "27cb1920-04fa-4efd-ea9d-8cbf7f265ca1"
      },
      "source": [
        "message = 'And now for something completely different'\n",
        "n = 17\n",
        "pi = 3.1415926535897931\n",
        "# This example makes three assignments. The first assigns a string to a new variable\n",
        "# named message; the second assigns the integer 17 to n; the third assigns the\n",
        "# (approximate) value of π to pi.\n",
        "#To display the value of a variable, you can use a print statement:\n",
        "print(n)\n",
        "print(message)\n",
        "print(pi)"
      ],
      "execution_count": null,
      "outputs": [
        {
          "output_type": "stream",
          "name": "stdout",
          "text": [
            "17\n",
            "And now for something completely different\n",
            "3.141592653589793\n"
          ]
        }
      ]
    },
    {
      "cell_type": "markdown",
      "metadata": {
        "id": "VwRhso0QQ_bj"
      },
      "source": [
        "##Examples"
      ]
    },
    {
      "cell_type": "code",
      "metadata": {
        "id": "SNJ5_DFRQ4B8",
        "colab": {
          "base_uri": "https://localhost:8080/"
        },
        "outputId": "9bfc1f39-7fc7-4b6d-ff5c-f982c5e8dfb1"
      },
      "source": [
        "#Example 1: Declaring and assigning value to a variable\n",
        "\n",
        "website = \"apple.com\"\n",
        "print(website)"
      ],
      "execution_count": null,
      "outputs": [
        {
          "output_type": "stream",
          "name": "stdout",
          "text": [
            "apple.com\n"
          ]
        }
      ]
    },
    {
      "cell_type": "code",
      "metadata": {
        "id": "QACgJpWCQ8G5",
        "colab": {
          "base_uri": "https://localhost:8080/"
        },
        "outputId": "1c33d80c-02a5-4eb7-9b16-295bc3d1570d"
      },
      "source": [
        "#Example 2: Changing the value of a variable\n",
        "\n",
        "website = \"apple.com\"\n",
        "print(website)\n",
        "\n",
        "# assigning a new value to website\n",
        "website = \"programiz.com\"\n",
        "\n",
        "print(website)"
      ],
      "execution_count": null,
      "outputs": [
        {
          "output_type": "stream",
          "name": "stdout",
          "text": [
            "apple.com\n",
            "programiz.com\n"
          ]
        }
      ]
    },
    {
      "cell_type": "code",
      "metadata": {
        "id": "YtqHSKfTRGC1",
        "colab": {
          "base_uri": "https://localhost:8080/"
        },
        "outputId": "a88fc32d-6cdc-4547-c651-d3e10b373c97"
      },
      "source": [
        "#Example 3: Assigning multiple values to multiple variables\n",
        "\n",
        "a, b, c = 5, 3.2, \"Hello\"\n",
        "\n",
        "print (a)\n",
        "print (b)\n",
        "print (c)"
      ],
      "execution_count": null,
      "outputs": [
        {
          "output_type": "stream",
          "name": "stdout",
          "text": [
            "5\n",
            "3.2\n",
            "Hello\n"
          ]
        }
      ]
    },
    {
      "cell_type": "code",
      "metadata": {
        "id": "Ha70j7byRLlo",
        "colab": {
          "base_uri": "https://localhost:8080/"
        },
        "outputId": "9565e6af-c3d4-414d-be33-9f42b55dac47"
      },
      "source": [
        "# If we want to assign the same value to multiple variables at once, we can do this as:\n",
        "\n",
        "x = y = z = \"same\"\n",
        "\n",
        "print (x)\n",
        "print (y)\n",
        "print (z)"
      ],
      "execution_count": null,
      "outputs": [
        {
          "output_type": "stream",
          "name": "stdout",
          "text": [
            "same\n",
            "same\n",
            "same\n"
          ]
        }
      ]
    },
    {
      "cell_type": "markdown",
      "metadata": {
        "id": "J0x1s1e-oCIx"
      },
      "source": [
        "**Variable names and keywords**\n",
        "\n",
        "Programmers generally choose names for their variables that are meaningful and\n",
        "document what the variable is used for.\n",
        "\n",
        "Variable names can be arbitrarily long. They can contain both letters and numbers, but they cannot start with a number. It is legal to use uppercase letters, but it is a good idea to begin variable names with a lowercase letter (you’ll see why later).\n",
        "\n",
        "The underscore character **( _ )** can appear in a name. It is often used in names with multiple words, such as **`my_name`** or **`airspeed_of_unladen_swallow`**. \n",
        "\n",
        "Variable names can start with an underscore character, but we generally avoid doing this unless we are writing library code for others to use.\n",
        "If you give a variable an illegal name, you get a syntax error:"
      ]
    },
    {
      "cell_type": "code",
      "metadata": {
        "id": "4myWRbAvoblK"
      },
      "source": [
        "# If you give a variable an illegal name, you get a syntax error:\n",
        "\n",
        "# Illegal variable names\n",
        "\n",
        "76trombones = 'big parade'\n",
        "more@ = 1000000\n",
        "class = 'Advanced Theoretical Zymurgy'\n",
        "\n",
        "\n",
        "# It turns out that class is one of Python’s keywords. The interpreter uses keywords\n",
        "# to recognize the structure of the program, and they cannot be used as variable\n",
        "# names."
      ],
      "execution_count": null,
      "outputs": []
    },
    {
      "cell_type": "markdown",
      "metadata": {
        "id": "-w3xLLw0o9T5"
      },
      "source": [
        "**Python reserves 35 keywords:**\n",
        "\n",
        "`and del from None True`\n",
        "\n",
        "`as elif global nonlocal try`\n",
        "\n",
        "`assert else if not while`\n",
        "\n",
        "`break except import or with`\n",
        "\n",
        "`class False in pass yield`\n",
        "\n",
        "`continue finally is raise async`\n",
        "\n",
        "`def for lambda return await`\n",
        "\n"
      ]
    },
    {
      "cell_type": "markdown",
      "metadata": {
        "id": "cHV3KE1mRn_x"
      },
      "source": [
        "**Type Conversion**\n",
        "\n",
        "The process of converting the value of one data type (integer, string, float, etc.) to another data type is called type conversion. Python has two types of type conversion.\n",
        "\n",
        "1. Implicit Type Conversion\n",
        "2. Explicit Type Conversion\n",
        "\n",
        "**Implicit Type Conversion**\n",
        "\n",
        "In Implicit type conversion, Python automatically converts one data type to another data type. This process doesn't need any user involvement.\n",
        "\n",
        "Let's see an example where Python promotes the conversion of the lower data type (integer) to the higher data type (float) to avoid data loss."
      ]
    },
    {
      "cell_type": "code",
      "metadata": {
        "id": "CIWdi8oOwLsE",
        "colab": {
          "base_uri": "https://localhost:8080/"
        },
        "outputId": "f5fed4b4-72d4-47a4-c2f2-40411476b0d6"
      },
      "source": [
        "type(\"ABC\")"
      ],
      "execution_count": null,
      "outputs": [
        {
          "output_type": "execute_result",
          "data": {
            "text/plain": [
              "str"
            ]
          },
          "metadata": {},
          "execution_count": 14
        }
      ]
    },
    {
      "cell_type": "code",
      "metadata": {
        "id": "_kRk5tXgSDxo",
        "colab": {
          "base_uri": "https://localhost:8080/"
        },
        "outputId": "0783b37d-8794-4563-a0fd-088347b0180d"
      },
      "source": [
        "# Example 1: Converting integer to float\n",
        "\n",
        "num_int = 123\n",
        "num_flo = 1.23\n",
        "\n",
        "num_new = num_int + num_flo\n",
        "\n",
        "print(\"datatype of num_int:\",type(num_int))\n",
        "print(\"datatype of num_flo:\",type(num_flo))\n",
        "\n",
        "print(\"Value of num_new:\",num_new)\n",
        "print(\"datatype of num_new:\",type(num_new))"
      ],
      "execution_count": null,
      "outputs": [
        {
          "output_type": "stream",
          "name": "stdout",
          "text": [
            "datatype of num_int: <class 'int'>\n",
            "datatype of num_flo: <class 'float'>\n",
            "Value of num_new: 124.23\n",
            "datatype of num_new: <class 'float'>\n"
          ]
        }
      ]
    },
    {
      "cell_type": "code",
      "metadata": {
        "id": "H-nZfdOhSAs_",
        "colab": {
          "base_uri": "https://localhost:8080/",
          "height": 246
        },
        "outputId": "e4bee61e-1399-4edb-da72-d51b0cffe152"
      },
      "source": [
        "# Example 2: Addition of string(higher) data type and integer(lower) datatype\n",
        "\n",
        "num_int = 123\n",
        "num_str = \"456\"\n",
        "\n",
        "print(\"Data type of num_int:\",type(num_int))\n",
        "print(\"Data type of num_str:\",type(num_str))\n",
        "\n",
        "print(num_int+num_str)"
      ],
      "execution_count": null,
      "outputs": [
        {
          "output_type": "stream",
          "name": "stdout",
          "text": [
            "Data type of num_int: <class 'int'>\n",
            "Data type of num_str: <class 'str'>\n"
          ]
        },
        {
          "output_type": "error",
          "ename": "TypeError",
          "evalue": "ignored",
          "traceback": [
            "\u001b[0;31m---------------------------------------------------------------------------\u001b[0m",
            "\u001b[0;31mTypeError\u001b[0m                                 Traceback (most recent call last)",
            "\u001b[0;32m<ipython-input-5-1a3f4b2e60bb>\u001b[0m in \u001b[0;36m<module>\u001b[0;34m()\u001b[0m\n\u001b[1;32m      7\u001b[0m \u001b[0mprint\u001b[0m\u001b[0;34m(\u001b[0m\u001b[0;34m\"Data type of num_str:\"\u001b[0m\u001b[0;34m,\u001b[0m\u001b[0mtype\u001b[0m\u001b[0;34m(\u001b[0m\u001b[0mnum_str\u001b[0m\u001b[0;34m)\u001b[0m\u001b[0;34m)\u001b[0m\u001b[0;34m\u001b[0m\u001b[0;34m\u001b[0m\u001b[0m\n\u001b[1;32m      8\u001b[0m \u001b[0;34m\u001b[0m\u001b[0m\n\u001b[0;32m----> 9\u001b[0;31m \u001b[0mprint\u001b[0m\u001b[0;34m(\u001b[0m\u001b[0mnum_int\u001b[0m\u001b[0;34m+\u001b[0m\u001b[0mnum_str\u001b[0m\u001b[0;34m)\u001b[0m\u001b[0;34m\u001b[0m\u001b[0;34m\u001b[0m\u001b[0m\n\u001b[0m",
            "\u001b[0;31mTypeError\u001b[0m: unsupported operand type(s) for +: 'int' and 'str'"
          ]
        }
      ]
    },
    {
      "cell_type": "markdown",
      "metadata": {
        "id": "dKkOimlBSZfI"
      },
      "source": [
        "**Explicit Type Conversion**\n",
        "\n",
        "In Explicit Type Conversion, users convert the data type of an object to required data type. We use the predefined functions like **`int()`**, **`float()`**, **`str()`**, etc to perform explicit type conversion.\n",
        "\n",
        "This type of conversion is also called ***typecasting*** because the user casts (changes) the data type of the objects."
      ]
    },
    {
      "cell_type": "code",
      "metadata": {
        "id": "L5VaS7oYSbo6",
        "colab": {
          "base_uri": "https://localhost:8080/"
        },
        "outputId": "57e22fbb-c224-4cf2-9e13-aba82f882409"
      },
      "source": [
        "#Example 3: Addition of string and integer using explicit conversion\n",
        "\n",
        "num_int = 123\n",
        "num_str = \"456\"\n",
        "\n",
        "print(\"Data type of num_int:\",type(num_int))\n",
        "print(\"Data type of num_str before Type Casting:\",type(num_str))\n",
        "\n",
        "num_str = int(num_str)\n",
        "print(\"Data type of num_str after Type Casting:\",type(num_str))\n",
        "\n",
        "num_sum = num_int + num_str\n",
        "\n",
        "print(\"Sum of num_int and num_str:\",num_sum)\n",
        "print(\"Data type of the sum:\",type(num_sum))"
      ],
      "execution_count": null,
      "outputs": [
        {
          "output_type": "stream",
          "name": "stdout",
          "text": [
            "Data type of num_int: <class 'int'>\n",
            "Data type of num_str before Type Casting: <class 'str'>\n",
            "Data type of num_str after Type Casting: <class 'int'>\n",
            "Sum of num_int and num_str: 579\n",
            "Data type of the sum: <class 'int'>\n"
          ]
        }
      ]
    },
    {
      "cell_type": "code",
      "metadata": {
        "colab": {
          "base_uri": "https://localhost:8080/"
        },
        "id": "ghXX-lhn9JmK",
        "outputId": "c0152c7d-88ed-493c-f762-1c75c73ed861"
      },
      "source": [
        "a = 613\n",
        "b = 'abc'\n",
        "a = str(a)\n",
        "c = b+a\n",
        "print(c)"
      ],
      "execution_count": null,
      "outputs": [
        {
          "output_type": "stream",
          "name": "stdout",
          "text": [
            "abc613\n"
          ]
        }
      ]
    },
    {
      "cell_type": "markdown",
      "metadata": {
        "id": "aWKaq_nzp0WW"
      },
      "source": [
        "**Statement**\n",
        "\n",
        "A statement is a unit of code that the Python interpreter can execute. We have\n",
        "seen two kinds of statements: print being an expression statement and assignment.\n",
        "When you type a statement in interactive mode, the interpreter executes it and\n",
        "displays the result, if there is one."
      ]
    },
    {
      "cell_type": "code",
      "metadata": {
        "id": "DIxB7f4Eo9Bn",
        "colab": {
          "base_uri": "https://localhost:8080/"
        },
        "outputId": "1b61684f-5f45-4781-95de-9793b51c24f4"
      },
      "source": [
        "print(1)\n",
        "x = 2\n",
        "print(x)"
      ],
      "execution_count": null,
      "outputs": [
        {
          "output_type": "stream",
          "name": "stdout",
          "text": [
            "1\n",
            "2\n"
          ]
        }
      ]
    },
    {
      "cell_type": "markdown",
      "metadata": {
        "id": "ycuFa0JVqY_B"
      },
      "source": [
        "**Operators and operands**\n",
        "\n",
        "Operators are special symbols that represent computations like addition and multiplication. The values the operator is applied to are called operands.\n",
        "The operators `+, -, *, /, and **` perform addition, subtraction, multiplication,\n",
        "division, and exponentiation, as in the following examples:"
      ]
    },
    {
      "cell_type": "code",
      "metadata": {
        "id": "zO7hqgahqwCo",
        "colab": {
          "base_uri": "https://localhost:8080/"
        },
        "outputId": "f1a10cec-f9e7-4659-df08-d9e37c706388"
      },
      "source": [
        "print(20+32)\n",
        "print(5**2)\n",
        "print((5+9)*(15-7))\n",
        "minute = 59\n",
        "print(minute/60)"
      ],
      "execution_count": null,
      "outputs": [
        {
          "output_type": "stream",
          "name": "stdout",
          "text": [
            "52\n",
            "25\n",
            "112\n",
            "0.9833333333333333\n"
          ]
        }
      ]
    },
    {
      "cell_type": "code",
      "metadata": {
        "id": "urp5S3raUjgU",
        "colab": {
          "base_uri": "https://localhost:8080/"
        },
        "outputId": "3fe3e2b1-050f-4f11-b97c-dd9fce69e4b3"
      },
      "source": [
        "#  Example 1: Arithmetic operators in Python\n",
        "x = 15\n",
        "y = 4\n",
        "\n",
        "# Output: x + y = 19\n",
        "print('x + y =',x+y)\n",
        "\n",
        "# Output: x - y = 11\n",
        "print('x - y =',x-y)\n",
        "\n",
        "# Output: x * y = 60\n",
        "print('x * y =',x*y)\n",
        "\n",
        "# Output: x / y = 3.75\n",
        "print('x / y =',x/y)\n",
        "\n",
        "# Output: x // y = 3\n",
        "print('x // y =',x//y)\n",
        "\n",
        "# Output: x ** y = 50625\n",
        "print('x ** y =',x**y)"
      ],
      "execution_count": null,
      "outputs": [
        {
          "output_type": "stream",
          "name": "stdout",
          "text": [
            "x + y = 19\n",
            "x - y = 11\n",
            "x * y = 60\n",
            "x / y = 3.75\n",
            "x // y = 3\n",
            "x ** y = 50625\n"
          ]
        }
      ]
    },
    {
      "cell_type": "markdown",
      "metadata": {
        "id": "ewwq9pBTrMnk"
      },
      "source": [
        "**Expressions**\n",
        "\n",
        "An expression is a combination of values, variables, and operators. A value all by itself is considered an expression, and so is a variable, so the following are all legal expressions (assuming that the variable x has been assigned a value)"
      ]
    },
    {
      "cell_type": "code",
      "metadata": {
        "id": "G2ljMIhPq3h_",
        "colab": {
          "base_uri": "https://localhost:8080/"
        },
        "outputId": "5d57534c-f3ef-4b1c-b2ce-1b83691db52a"
      },
      "source": [
        "\n",
        "x = 5\n",
        "x + 1"
      ],
      "execution_count": null,
      "outputs": [
        {
          "output_type": "execute_result",
          "data": {
            "text/plain": [
              "6"
            ]
          },
          "metadata": {},
          "execution_count": 20
        }
      ]
    },
    {
      "cell_type": "code",
      "metadata": {
        "id": "fCtqHBNXreBl",
        "colab": {
          "base_uri": "https://localhost:8080/"
        },
        "outputId": "3ffa5f7e-1e16-4d3f-cf69-1aa1958acc62"
      },
      "source": [
        "quotient = 7 // 3\n",
        "print(quotient)\n",
        "\n",
        "remainder = 7 % 3\n",
        "print(remainder)\n"
      ],
      "execution_count": null,
      "outputs": [
        {
          "output_type": "stream",
          "name": "stdout",
          "text": [
            "2\n",
            "1\n"
          ]
        }
      ]
    },
    {
      "cell_type": "markdown",
      "metadata": {
        "id": "3E8qOM2asArS"
      },
      "source": [
        "**String operations**\n",
        "\n",
        "The `+` operator works with strings, but it is not addition in the mathematical sense.\n",
        "Instead it performs **concatenation**, which means joining the strings by linking them\n",
        "end to end. For example:"
      ]
    },
    {
      "cell_type": "code",
      "metadata": {
        "id": "w8O8Ds8ssJod",
        "colab": {
          "base_uri": "https://localhost:8080/"
        },
        "outputId": "18cdc008-9122-4b17-b4f2-711575e8b3df"
      },
      "source": [
        "first = 10\n",
        "second = 15\n",
        "print(first+second)\n",
        "\n",
        "############\n",
        "first = '100'\n",
        "second = '150'\n",
        "print(first + second)"
      ],
      "execution_count": null,
      "outputs": [
        {
          "output_type": "stream",
          "name": "stdout",
          "text": [
            "25\n",
            "100150\n"
          ]
        }
      ]
    },
    {
      "cell_type": "code",
      "metadata": {
        "id": "tlQNH5FMyuf1",
        "colab": {
          "base_uri": "https://localhost:8080/"
        },
        "outputId": "b5d92142-2d01-400d-dbf9-ac5d17704df9"
      },
      "source": [
        "a = \"Try\"\n",
        "b = \"Catch\"\n",
        "\n",
        "print(a+' '+b)"
      ],
      "execution_count": null,
      "outputs": [
        {
          "output_type": "stream",
          "name": "stdout",
          "text": [
            "Try Catch\n"
          ]
        }
      ]
    },
    {
      "cell_type": "markdown",
      "metadata": {
        "id": "qSFIP6bvtO1h"
      },
      "source": [
        "The `*` operator also works with strings by multiplying the content of a string by an integer. For example:\n"
      ]
    },
    {
      "cell_type": "code",
      "metadata": {
        "id": "xaKWXKF8tQln",
        "colab": {
          "base_uri": "https://localhost:8080/"
        },
        "outputId": "91ac45a9-8748-4cd9-e950-ec5fa7a5d619"
      },
      "source": [
        "first = 'Test '\n",
        "second = 3\n",
        "print(first * second)"
      ],
      "execution_count": null,
      "outputs": [
        {
          "output_type": "stream",
          "name": "stdout",
          "text": [
            "Test Test Test \n"
          ]
        }
      ]
    },
    {
      "cell_type": "markdown",
      "metadata": {
        "id": "ulbz0X43ttVg"
      },
      "source": [
        "**Asking the user for input**\n",
        "\n",
        "Sometimes we would like to take the value for a variable from the user via their\n",
        "keyboard. Python provides a built-in function called **`input`** that gets input from the keyboard\n"
      ]
    },
    {
      "cell_type": "code",
      "metadata": {
        "colab": {
          "base_uri": "https://localhost:8080/"
        },
        "id": "ZeyxcP0PuJeW",
        "outputId": "81490112-1a50-4ccd-a91b-5e7f5e7cb6c1"
      },
      "source": [
        "inp = input(\"Enter a value: \")\n",
        "print(inp)"
      ],
      "execution_count": null,
      "outputs": [
        {
          "output_type": "stream",
          "name": "stdout",
          "text": [
            "Enter a value: bhf\n",
            "bhf\n"
          ]
        }
      ]
    },
    {
      "cell_type": "markdown",
      "metadata": {
        "id": "GVwjqoW6TVFs"
      },
      "source": [
        "**Output formatting**\n",
        "\n",
        "Sometimes we would like to format our output to make it look attractive. This can be done by using the **`str.format()`** method. This method is visible to any string object."
      ]
    },
    {
      "cell_type": "code",
      "metadata": {
        "id": "dFzEtBjQTNqd",
        "colab": {
          "base_uri": "https://localhost:8080/"
        },
        "outputId": "92ef6d69-6db5-4064-c568-0cce83de60b9"
      },
      "source": [
        "# one way\n",
        "x = 5 \n",
        "y = 10\n",
        "print('The value of x is {} and y is {}'.format(x,y))\n",
        "\n",
        "#Here, the curly braces {} are used as placeholders. "
      ],
      "execution_count": null,
      "outputs": [
        {
          "output_type": "stream",
          "name": "stdout",
          "text": [
            "The value of x is 5 and y is 10\n"
          ]
        }
      ]
    },
    {
      "cell_type": "code",
      "metadata": {
        "colab": {
          "base_uri": "https://localhost:8080/"
        },
        "id": "jXNSK81X0xlL",
        "outputId": "ea80396c-76ac-4efc-e5ee-8a35fcc0dd22"
      },
      "source": [
        "# second way\n",
        "x = 5 \n",
        "y = 10\n",
        "print(f'The value of x is {x} and y is {y}')"
      ],
      "execution_count": null,
      "outputs": [
        {
          "output_type": "stream",
          "name": "stdout",
          "text": [
            "The value of x is 5 and y is 10\n"
          ]
        }
      ]
    },
    {
      "cell_type": "code",
      "metadata": {
        "id": "HY96TFQlTniA",
        "colab": {
          "base_uri": "https://localhost:8080/"
        },
        "outputId": "0b4bf60d-2bcb-4e4e-fb4e-e753a3782aa2"
      },
      "source": [
        "# We can even use keyword arguments to format the string.\n",
        "\n",
        "print('Hello {name}, {greeting}'.format(greeting = 'Goodmorning', name = 'John'))"
      ],
      "execution_count": null,
      "outputs": [
        {
          "output_type": "stream",
          "name": "stdout",
          "text": [
            "Hello John, Goodmorning\n"
          ]
        }
      ]
    },
    {
      "cell_type": "code",
      "metadata": {
        "colab": {
          "base_uri": "https://localhost:8080/"
        },
        "id": "dZ9jk7d11yUM",
        "outputId": "ae667688-8b87-43e1-c763-64b68660ee2d"
      },
      "source": [
        "# test\n",
        "a = 5; b=6; c= 10\n",
        "\n",
        "print(f\"The summation of {a},{b}, and {c} =\",a+b+c)"
      ],
      "execution_count": null,
      "outputs": [
        {
          "output_type": "stream",
          "name": "stdout",
          "text": [
            "The summation of 5,6, and 10 = 21\n"
          ]
        }
      ]
    },
    {
      "cell_type": "code",
      "metadata": {
        "id": "5B6oCi9-UACm",
        "colab": {
          "base_uri": "https://localhost:8080/"
        },
        "outputId": "45e5e8a6-647f-4623-e699-a0086d5879fe"
      },
      "source": [
        "# We can also format strings like the old sprintf() style used in C programming language. \n",
        "# We use the % operator to accomplish this\n",
        "x = 12.3456789\n",
        "print('The value of x is %.2f' %x)\n",
        "print('The value of x is %.4f' %x)\n"
      ],
      "execution_count": null,
      "outputs": [
        {
          "output_type": "stream",
          "name": "stdout",
          "text": [
            "The value of x is 12.35\n",
            "The value of x is 12.3457\n"
          ]
        }
      ]
    },
    {
      "cell_type": "code",
      "metadata": {
        "id": "ExfmhoLB20Zp",
        "colab": {
          "base_uri": "https://localhost:8080/"
        },
        "outputId": "58bde15b-28e3-43b9-d294-186f371f9180"
      },
      "source": [
        "# round function\n",
        "round(x,4)"
      ],
      "execution_count": null,
      "outputs": [
        {
          "output_type": "execute_result",
          "data": {
            "text/plain": [
              "5"
            ]
          },
          "metadata": {},
          "execution_count": 30
        }
      ]
    },
    {
      "cell_type": "code",
      "metadata": {
        "id": "OJ-n6LjQ4NCX",
        "colab": {
          "base_uri": "https://localhost:8080/"
        },
        "outputId": "9809a38d-78d3-4164-e8c9-15ce7ebfb1a9"
      },
      "source": [
        "# Python math package \n",
        "from math import sqrt,pi\n",
        "sqrt(16)\n",
        "pi"
      ],
      "execution_count": null,
      "outputs": [
        {
          "output_type": "execute_result",
          "data": {
            "text/plain": [
              "3.141592653589793"
            ]
          },
          "metadata": {},
          "execution_count": 5
        }
      ]
    },
    {
      "cell_type": "markdown",
      "metadata": {
        "id": "HIk12T5avEDe"
      },
      "source": [
        "#Practice Excercises\n",
        "\n",
        "\n",
        "\n",
        "1.   Write a program that uses input to prompt a user for their name and then welcomes them.           \n",
        "```\n",
        "              Enter your name: Shakib\n",
        "              Hello Shakib\n",
        "```\n",
        "\n",
        "2.   Write a program to prompt the user for hours and rate per\n",
        "hour to compute gross pay.\n",
        "```\n",
        "          Enter Hours: 35\n",
        "          Enter Rate: 2.75\n",
        "          Pay : 96.25\n",
        "```\n",
        "\n",
        "3. Write a program which prompts the user for a Celsius temperature, convert the temperature to Fahrenheit, and print out the\n",
        "converted temperature.\n",
        "\n",
        "```\n",
        "          Enter Tempatature in Celsius: 35\n",
        "          Temparature in Farenheit: ???\n",
        "```\n",
        "4. Write a program which prompts the user for the height and width of a rectangle, calculate the area, diagonal, and perimeter.\n",
        "```\n",
        "          Enter Height: 5\n",
        "          Enter Width:  7\n",
        "          Area :  ??\n",
        "          Diagonal: ??\n",
        "          Perimeter: ??\n",
        "```\n",
        "5. Write a Python program to calculate the area of a trapezoid.\n",
        "```\n",
        "          Enter Height: 5\n",
        "          Enter base 1 value:  18\n",
        "          Enter base 2 value:  7\n",
        "          Area :  ??        \n",
        "```\n",
        "6. Write a Python program to calculate surface volume and area of a cylinder.\n",
        "```\n",
        "          Enter Height: 5\n",
        "          Enter radius:  10\n",
        "          Volume: ??\n",
        "          Area :  ??        \n",
        "```\n",
        "7. Write a Python program to calculate arc length of an angle and sector area of a circle.\n",
        "```\n",
        "          Enter Radius: 5\n",
        "          Enter Angle:  60\n",
        "          Arc Length: ??\n",
        "          Sector Area:  ??        \n",
        "```\n"
      ]
    },
    {
      "cell_type": "markdown",
      "metadata": {
        "id": "qrhyKZ3niosh"
      },
      "source": [
        "#References:\n",
        "1. [Programiz.com](https://www.programiz.com/python-programming/operators)\n",
        "2. [Python for Everybody-Coursera](https://www.coursera.org/learn/python)"
      ]
    }
  ]
}