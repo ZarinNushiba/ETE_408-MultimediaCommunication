{
  "nbformat": 4,
  "nbformat_minor": 0,
  "metadata": {
    "colab": {
      "name": "5. Lab-05 (Python Files and Lists).ipynb",
      "provenance": [],
      "collapsed_sections": [],
      "include_colab_link": true
    },
    "kernelspec": {
      "name": "python3",
      "display_name": "Python 3"
    },
    "language_info": {
      "name": "python"
    }
  },
  "cells": [
    {
      "cell_type": "markdown",
      "metadata": {
        "id": "view-in-github",
        "colab_type": "text"
      },
      "source": [
        "<a href=\"https://colab.research.google.com/github/ZarinNushiba/ETE_408-MultimediaCommunication/blob/main/5_Lab_05_(Python_Files_and_Lists).ipynb\" target=\"_parent\"><img src=\"https://colab.research.google.com/assets/colab-badge.svg\" alt=\"Open In Colab\"/></a>"
      ]
    },
    {
      "cell_type": "markdown",
      "metadata": {
        "id": "C-BUBBYTWTYU"
      },
      "source": [
        "#ETE-407 Multimedia Communication Sessional\n",
        "\n",
        "Lab-04: **Python Files and Lists**\n",
        "\n",
        "\n",
        "> Objective: \n",
        " 1. *Get familiar with Python Files.*\n",
        " 2. *Get familiar Lists and its various operations .*\n"
      ]
    },
    {
      "cell_type": "code",
      "metadata": {
        "id": "ps_MOc1N3JJ0"
      },
      "source": [
        "# download the text file\n",
        "!wget https://www.py4e.com/code3/mbox-short.txt\n",
        "!wget https://www.py4e.com/code3/romeo.txt"
      ],
      "execution_count": null,
      "outputs": []
    },
    {
      "cell_type": "markdown",
      "metadata": {
        "id": "QhF4WYk54kYS"
      },
      "source": [
        "#Opening Files\n",
        "\n",
        "When we want to read or write a file (say on your hard drive), we first must\n",
        "open the file."
      ]
    },
    {
      "cell_type": "code",
      "metadata": {
        "id": "-7CCNMcG4mzr",
        "colab": {
          "base_uri": "https://localhost:8080/"
        },
        "outputId": "ad0bb8cb-be01-40f7-a697-2f0e98726834"
      },
      "source": [
        "fhand = open('mbox-short.txt')\n",
        "print(fhand)"
      ],
      "execution_count": null,
      "outputs": [
        {
          "output_type": "stream",
          "name": "stdout",
          "text": [
            "<_io.TextIOWrapper name='mbox-short.txt' mode='r' encoding='UTF-8'>\n"
          ]
        }
      ]
    },
    {
      "cell_type": "markdown",
      "metadata": {
        "id": "zIPs_O7y5LaX"
      },
      "source": [
        "If the open is successful, the operating system returns us a ***file handle***. The ***file handle*** is not the actual data contained in the file, but instead it is a “handle” that we can use to read the data. You are given a handle if the requested file exists and you have the proper permissions to read the file."
      ]
    },
    {
      "cell_type": "markdown",
      "metadata": {
        "id": "dTX_t5aC58Pl"
      },
      "source": [
        "#Text files and lines\n",
        "\n",
        "A text file can be thought of as a **sequence of lines**, much like a Python string can be thought of as a **sequence of characters**. For example, this is a sample of a text file which records mail activity from various individuals in an open source project development team:\n",
        "```\n",
        "From stephen.marquard@uct.ac.za Sat Jan 5 09:14:16 2008\n",
        "Return-Path: <postmaster@collab.sakaiproject.org>\n",
        "Date: Sat, 5 Jan 2008 09:12:18 -0500\n",
        "To: source@collab.sakaiproject.org\n",
        "From: stephen.marquard@uct.ac.za\n",
        "Subject: [sakai] svn commit: r39772 - content/branches/\n",
        "Details: http://source.sakaiproject.org/viewsvn/?view=rev&rev=39772\n",
        "```\n",
        "\n",
        "\n",
        "These files are in a standard format for a file containing multiple mail messages. The lines which start with **“From”** separate the messages and the lines which start with **“From:”** are part of the messages.\n",
        "\n",
        "To break the file into lines, there is a special character that represents the **“end of the line”** called the newline character.\n"
      ]
    },
    {
      "cell_type": "code",
      "metadata": {
        "id": "7qtTbOmG5YYQ",
        "colab": {
          "base_uri": "https://localhost:8080/"
        },
        "outputId": "a7535fe7-e342-4d5b-822a-538f2fdef9ee"
      },
      "source": [
        "stuff = 'Hello\\nWorld'\n",
        "#stuff\n",
        "\n",
        "\n",
        "print(stuff)\n",
        "len (stuff)\n",
        "\n"
      ],
      "execution_count": null,
      "outputs": [
        {
          "output_type": "stream",
          "name": "stdout",
          "text": [
            "Hello\n",
            "World\n"
          ]
        },
        {
          "output_type": "execute_result",
          "data": {
            "text/plain": [
              "11"
            ]
          },
          "metadata": {},
          "execution_count": 4
        }
      ]
    },
    {
      "cell_type": "code",
      "metadata": {
        "id": "-RH2I1Zp7vwW",
        "colab": {
          "base_uri": "https://localhost:8080/"
        },
        "outputId": "7fea79d0-05d4-45fe-d88b-846dac2b2a85"
      },
      "source": [
        "stuff = 'X\\nY\\nZ'\n",
        "print(stuff)\n",
        "len(stuff)"
      ],
      "execution_count": null,
      "outputs": [
        {
          "output_type": "stream",
          "name": "stdout",
          "text": [
            "X\n",
            "Y\n",
            "Z\n"
          ]
        },
        {
          "output_type": "execute_result",
          "data": {
            "text/plain": [
              "5"
            ]
          },
          "metadata": {},
          "execution_count": 2
        }
      ]
    },
    {
      "cell_type": "markdown",
      "metadata": {
        "id": "hEqxkzBR7UM2"
      },
      "source": [
        "When we look at the variable by entering **“stuff”** in the interpreter, it shows us the `\\n` in the string, but when we use print to show the string, we see the string broken into two lines by the newline character. You can also see that the length of the string **X\\nY** is three characters because the newline character is a single character.\n",
        "\n",
        "**So when we look at the lines in a file, we need to `imagine` that there is a special invisible character called the` newline` at the end of each line that marks the end of the line. So the `newline` character separates the characters in the file into lines**."
      ]
    },
    {
      "cell_type": "markdown",
      "metadata": {
        "id": "uV8D8RRG8lHq"
      },
      "source": [
        "#Reading Files"
      ]
    },
    {
      "cell_type": "code",
      "metadata": {
        "id": "-YXhKohjxm1-"
      },
      "source": [
        "fhand = open('mbox-short.txt')\n",
        "\n",
        "for line in fhand:\n",
        "  print(line)"
      ],
      "execution_count": null,
      "outputs": []
    },
    {
      "cell_type": "code",
      "metadata": {
        "id": "1mwpAjtA8ivG",
        "colab": {
          "base_uri": "https://localhost:8080/"
        },
        "outputId": "be95f2dc-2ffd-49b4-c6c9-8b16db28e9cc"
      },
      "source": [
        "fhand = open('mbox-short.txt')\n",
        "count = 0\n",
        "for line in fhand:\n",
        "  count = count + 1\n",
        "print('Line Count:', count)"
      ],
      "execution_count": null,
      "outputs": [
        {
          "output_type": "stream",
          "name": "stdout",
          "text": [
            "Line Count: 1910\n"
          ]
        }
      ]
    },
    {
      "cell_type": "code",
      "metadata": {
        "id": "D5gJ6itJ9K1a"
      },
      "source": [
        "# read method convert whole text file into a string\n",
        "\n",
        "fhand = open('mbox-short.txt')\n",
        "inp = fhand.read()\n",
        "print(len(inp))\n",
        "\n",
        "inp"
      ],
      "execution_count": null,
      "outputs": []
    },
    {
      "cell_type": "markdown",
      "metadata": {
        "id": "4qkt8XDW-Qzv"
      },
      "source": [
        "#Searching through a file\n",
        "\n",
        "When you are searching through data in a file, it is a very common pattern to read through a file, ignoring most of the lines and only processing lines which meet a particular condition. We can combine the pattern for reading a file with string methods to build simple search mechanisms.\n",
        "\n",
        "For example, if we wanted to read a file and only print out lines which started with the prefix ***“From:”***, we could use the string method startswith to select only those lines with the desired prefix:"
      ]
    },
    {
      "cell_type": "code",
      "metadata": {
        "id": "hauePRRl-VE6"
      },
      "source": [
        "fhand = open('mbox-short.txt')\n",
        "count = 0\n",
        "for line in fhand:\n",
        "  if line.startswith('From:'):\n",
        "    count = count+1\n",
        "    print(line)\n",
        "print(count)    "
      ],
      "execution_count": null,
      "outputs": []
    },
    {
      "cell_type": "code",
      "metadata": {
        "id": "QPYYyhYGzlAh"
      },
      "source": [
        "# strip\n",
        "#lstrip\n",
        "#rstrip"
      ],
      "execution_count": null,
      "outputs": []
    },
    {
      "cell_type": "markdown",
      "metadata": {
        "id": "tZNRe7hT-3Xc"
      },
      "source": [
        "The output looks great since the only lines we are seeing are those which start with “From:”, but why are we seeing the extra blank lines? This is due to that invisible newline character. Each of the lines ends with a newline, so the print statement prints the string in the variable line which includes a newline and then print adds another newline, resulting in the double spacing effect we see."
      ]
    },
    {
      "cell_type": "code",
      "metadata": {
        "id": "n9abArsT_BcS"
      },
      "source": [
        "fhand = open('mbox-short.txt')\n",
        "for line in fhand:\n",
        "  line = line.strip()\n",
        "  if line.startswith('From:'):\n",
        "    print(line)"
      ],
      "execution_count": null,
      "outputs": []
    },
    {
      "cell_type": "markdown",
      "metadata": {
        "id": "O1vP78DZ_lDJ"
      },
      "source": [
        "We can structure the loop to follow the pattern of skipping uninteresting lines as follows:"
      ]
    },
    {
      "cell_type": "code",
      "metadata": {
        "id": "Fyu5t4RA_nR7"
      },
      "source": [
        "fhand = open('mbox-short.txt')\n",
        "for line in fhand:\n",
        "  line = line.rstrip()\n",
        "  # Skip 'uninteresting lines'\n",
        "  if not line.startswith('From:'):\n",
        "    continue\n",
        "  # Process our 'interesting' line\n",
        "  print(line)"
      ],
      "execution_count": null,
      "outputs": []
    },
    {
      "cell_type": "markdown",
      "metadata": {
        "id": "vpCk68T1CQv2"
      },
      "source": [
        "We can use the `find` string method to simulate a text editor search that finds lines where the search string is anywhere in the line. Since `find` looks for an occurrence of a string within another string and either returns the position of the string or -1 if the string was not found, we can write the following loop to show lines which contain the string **“@uct.ac.za”** (i.e., they come from the University of Cape Town in South Africa):"
      ]
    },
    {
      "cell_type": "code",
      "metadata": {
        "id": "dA81PYi1Cqns"
      },
      "source": [
        "fhand = open('mbox-short.txt')\n",
        "for line in fhand:\n",
        "  line = line.rstrip()\n",
        "  if line.find('@uct.ac.za') == -1: \n",
        "    continue\n",
        "  print(line)"
      ],
      "execution_count": null,
      "outputs": []
    },
    {
      "cell_type": "markdown",
      "metadata": {
        "id": "UWBVpsvkMuvJ"
      },
      "source": [
        "#Lists\n",
        "\n",
        "Like a string, a list is a sequence of values. In a string, the values are characters; in a list, they can be any type. The values in list are called elements or sometimes items."
      ]
    },
    {
      "cell_type": "code",
      "metadata": {
        "id": "hm_W7_rNMwNb"
      },
      "source": [
        "a = [10, 20, 30, 40]\n",
        "b = ['crunchy frog', 'ram bladder', 'lark vomit']"
      ],
      "execution_count": null,
      "outputs": []
    },
    {
      "cell_type": "markdown",
      "metadata": {
        "id": "AFSI1-4dNLGR"
      },
      "source": [
        "The elements of a list don’t have to be the same type. The following list contains a string, a float, an integer, and (lo!) another list:"
      ]
    },
    {
      "cell_type": "code",
      "metadata": {
        "id": "ZAr-7Zs8NO6K"
      },
      "source": [
        "c = ['spam', 2.0, 5, [10, 20]]"
      ],
      "execution_count": null,
      "outputs": []
    },
    {
      "cell_type": "code",
      "metadata": {
        "id": "HcxXKDyE272B",
        "colab": {
          "base_uri": "https://localhost:8080/"
        },
        "outputId": "97312385-d1dd-446f-8132-400c7b845b14"
      },
      "source": [
        "for i in c:\n",
        "  print (i)"
      ],
      "execution_count": null,
      "outputs": [
        {
          "output_type": "stream",
          "name": "stdout",
          "text": [
            "spam\n",
            "2.0\n",
            "5\n",
            "[10, 20]\n"
          ]
        }
      ]
    },
    {
      "cell_type": "markdown",
      "metadata": {
        "id": "gRb2kcoANTft"
      },
      "source": [
        "A list within another list is nested.\n",
        "A list that contains no elements is called an empty list; you can create one with empty brackets, **`[]`**"
      ]
    },
    {
      "cell_type": "code",
      "metadata": {
        "id": "VnhSwEsgNaRK",
        "colab": {
          "base_uri": "https://localhost:8080/"
        },
        "outputId": "0179fdd7-ecf2-410c-c522-5b1703f2b1c1"
      },
      "source": [
        "cheeses = ['Cheddar', 'Edam', 'Gouda']\n",
        "numbers = [17, 123]\n",
        "empty = []\n",
        "print(cheeses, numbers, empty)"
      ],
      "execution_count": null,
      "outputs": [
        {
          "output_type": "stream",
          "name": "stdout",
          "text": [
            "['Cheddar', 'Edam', 'Gouda'] [17, 123] []\n"
          ]
        }
      ]
    },
    {
      "cell_type": "markdown",
      "metadata": {
        "id": "60jydMaHNnl7"
      },
      "source": [
        "##Lists are mutable"
      ]
    },
    {
      "cell_type": "code",
      "metadata": {
        "id": "bnwaQqlJNtlF",
        "colab": {
          "base_uri": "https://localhost:8080/"
        },
        "outputId": "4c896c0b-0864-4eb4-b431-e6c74e114f81"
      },
      "source": [
        "numbers = [17, 123]\n",
        "numbers[1] = 5\n",
        "print(numbers)"
      ],
      "execution_count": null,
      "outputs": [
        {
          "output_type": "stream",
          "name": "stdout",
          "text": [
            "[17, 5]\n"
          ]
        }
      ]
    },
    {
      "cell_type": "code",
      "metadata": {
        "colab": {
          "base_uri": "https://localhost:8080/"
        },
        "id": "1OAltYJtNz_O",
        "outputId": "17d027d2-1823-427d-f015-0bf6460fdfb7"
      },
      "source": [
        "cheeses = ['Cheddar', 'Edam', 'Gouda']\n",
        "'Edam' in cheeses\n",
        "'Brie' in cheeses"
      ],
      "execution_count": null,
      "outputs": [
        {
          "output_type": "execute_result",
          "data": {
            "text/plain": [
              "False"
            ]
          },
          "metadata": {},
          "execution_count": 14
        }
      ]
    },
    {
      "cell_type": "markdown",
      "metadata": {
        "id": "i8QquZ9pOLVb"
      },
      "source": [
        "##Traversing a list"
      ]
    },
    {
      "cell_type": "markdown",
      "metadata": {
        "id": "htDm3EsDO3jP"
      },
      "source": [
        "The most common way to traverse the elements of a list is with a for loop. The\n",
        "syntax is the same as for strings:"
      ]
    },
    {
      "cell_type": "code",
      "metadata": {
        "id": "QNM_3hksOM70",
        "colab": {
          "base_uri": "https://localhost:8080/"
        },
        "outputId": "e3c76750-01d5-403b-c9a7-efcd1c9e31a6"
      },
      "source": [
        "for cheese in cheeses:\n",
        "  print(cheese)"
      ],
      "execution_count": null,
      "outputs": [
        {
          "output_type": "stream",
          "name": "stdout",
          "text": [
            "Cheddar\n",
            "Edam\n",
            "Gouda\n"
          ]
        }
      ]
    },
    {
      "cell_type": "markdown",
      "metadata": {
        "id": "IPOZ9V_EPGSg"
      },
      "source": [
        "This works well if you only need to read the elements of the list. But if you want to write or update the elements, you need the indices. A common way to do that is to combine the functions range and len:"
      ]
    },
    {
      "cell_type": "code",
      "metadata": {
        "id": "2H77sqrZPKA6",
        "colab": {
          "base_uri": "https://localhost:8080/"
        },
        "outputId": "4c0fe073-af5b-4aa2-df13-8895b70acfc3"
      },
      "source": [
        "for i in range(len(numbers)):\n",
        "  numbers[i] = numbers[i] * 2\n",
        " \n",
        "print(numbers)"
      ],
      "execution_count": null,
      "outputs": [
        {
          "output_type": "stream",
          "name": "stdout",
          "text": [
            "[34, 10]\n"
          ]
        }
      ]
    },
    {
      "cell_type": "code",
      "metadata": {
        "colab": {
          "base_uri": "https://localhost:8080/"
        },
        "id": "K32d4Jv7AA9B",
        "outputId": "42feb945-1ec1-4784-9501-492ad203c1d9"
      },
      "source": [
        "a = [5,16,25]\n",
        "for i in range(len(a)):\n",
        "  a[i]= a[i]*2\n",
        "print(a)"
      ],
      "execution_count": null,
      "outputs": [
        {
          "output_type": "stream",
          "name": "stdout",
          "text": [
            "[10, 32, 50]\n"
          ]
        }
      ]
    },
    {
      "cell_type": "markdown",
      "metadata": {
        "id": "JNT_3YtfPhYK"
      },
      "source": [
        "##List operations"
      ]
    },
    {
      "cell_type": "code",
      "metadata": {
        "id": "qqCJPxi0Pisf",
        "colab": {
          "base_uri": "https://localhost:8080/"
        },
        "outputId": "265900b4-304b-4f7f-aa6b-83540ee44843"
      },
      "source": [
        "# The + operator concatenates lists:\n",
        "\n",
        "a = [1, 2, 3]\n",
        "b = [4, 5, 6]\n",
        "c = a + b\n",
        "print(c)"
      ],
      "execution_count": null,
      "outputs": [
        {
          "output_type": "stream",
          "name": "stdout",
          "text": [
            "[1, 2, 3, 4, 5, 6]\n"
          ]
        }
      ]
    },
    {
      "cell_type": "code",
      "metadata": {
        "id": "7LSjhdqyPtCU",
        "colab": {
          "base_uri": "https://localhost:8080/"
        },
        "outputId": "bbf19d3c-0bb8-44e1-e5d7-a1c5d1962229"
      },
      "source": [
        "# Similarly, the * operator repeats a list a given number of times:\n",
        "\n",
        "a = [0] * 4\n",
        "\n",
        "b = [1, 2, 3] * 3\n",
        "\n",
        "print(a)\n",
        "print(b)"
      ],
      "execution_count": null,
      "outputs": [
        {
          "output_type": "stream",
          "name": "stdout",
          "text": [
            "[0, 0, 0, 0]\n",
            "[1, 2, 3, 1, 2, 3, 1, 2, 3]\n"
          ]
        }
      ]
    },
    {
      "cell_type": "markdown",
      "metadata": {
        "id": "NGbJ7-F8QDLK"
      },
      "source": [
        "##List slices"
      ]
    },
    {
      "cell_type": "code",
      "metadata": {
        "id": "MEL6JaiVQGrS",
        "colab": {
          "base_uri": "https://localhost:8080/"
        },
        "outputId": "2d4c7b0f-eadd-435f-9c6f-7f41f0faec7c"
      },
      "source": [
        "t = ['a', 'b', 'c', 'd', 'e', 'f']\n",
        "#t[1:3]\n",
        "#t[:4]\n",
        "t[3:]"
      ],
      "execution_count": null,
      "outputs": [
        {
          "output_type": "execute_result",
          "data": {
            "text/plain": [
              "['d', 'e', 'f']"
            ]
          },
          "metadata": {},
          "execution_count": 26
        }
      ]
    },
    {
      "cell_type": "markdown",
      "metadata": {
        "id": "OXwp_Z2ZQR9h"
      },
      "source": [
        "**If you omit the first index, the slice starts at the beginning. If you omit the second, the slice goes to the end. So if you omit both, the slice is a copy of the whole list.**"
      ]
    },
    {
      "cell_type": "code",
      "metadata": {
        "id": "vrVLGebbQUzN",
        "colab": {
          "base_uri": "https://localhost:8080/"
        },
        "outputId": "cd38088d-f203-47ae-e04f-5752e0be5807"
      },
      "source": [
        "t[:]"
      ],
      "execution_count": null,
      "outputs": [
        {
          "output_type": "execute_result",
          "data": {
            "text/plain": [
              "['a', 'b', 'c', 'd', 'e', 'f']"
            ]
          },
          "metadata": {},
          "execution_count": 24
        }
      ]
    },
    {
      "cell_type": "code",
      "metadata": {
        "id": "lVbyhXfERPVz",
        "colab": {
          "base_uri": "https://localhost:8080/"
        },
        "outputId": "ffd57bc0-3737-4707-e9c3-48ded2da5be7"
      },
      "source": [
        "t = ['a', 'b', 'c', 'd', 'e', 'f']\n",
        "t[1:3] = ['x', 'y']\n",
        "print(t)"
      ],
      "execution_count": null,
      "outputs": [
        {
          "output_type": "stream",
          "name": "stdout",
          "text": [
            "['a', 'x', 'y', 'd', 'e', 'f']\n"
          ]
        }
      ]
    },
    {
      "cell_type": "markdown",
      "metadata": {
        "id": "DPPjLaXrRcRS"
      },
      "source": [
        "##List methods"
      ]
    },
    {
      "cell_type": "code",
      "metadata": {
        "id": "TsRLrK8KRdlT",
        "colab": {
          "base_uri": "https://localhost:8080/"
        },
        "outputId": "dc30df6a-d74f-4a53-a1b2-fd7ecdaa9df7"
      },
      "source": [
        "# Python provides methods that operate on lists. For example, append adds a new\n",
        "# element to the end of a list:\n",
        "\n",
        "#t = list()\n",
        "\n",
        "t = ['a', 'b', 'c']\n",
        "t.append('d')\n",
        "print(t)"
      ],
      "execution_count": null,
      "outputs": [
        {
          "output_type": "stream",
          "name": "stdout",
          "text": [
            "['a', 'b', 'c', 'd']\n"
          ]
        }
      ]
    },
    {
      "cell_type": "code",
      "metadata": {
        "id": "R1MGsEZ9RqHr",
        "colab": {
          "base_uri": "https://localhost:8080/"
        },
        "outputId": "79304ce2-f51d-4d2b-b71a-4183751217c5"
      },
      "source": [
        "#extend takes a list as an argument and appends all of the elements:\n",
        "\n",
        "t1 = ['a', 'b', 'c']\n",
        "t2 = ['d', 'e']\n",
        "t1.extend(t2)\n",
        "print(t1)"
      ],
      "execution_count": null,
      "outputs": [
        {
          "output_type": "stream",
          "name": "stdout",
          "text": [
            "['a', 'b', 'c', 'd', 'e']\n"
          ]
        }
      ]
    },
    {
      "cell_type": "code",
      "metadata": {
        "id": "hNYaCDmhSWXy",
        "colab": {
          "base_uri": "https://localhost:8080/"
        },
        "outputId": "ef8c5ac4-dc81-423e-f0da-30171ec4ec74"
      },
      "source": [
        "#sort arranges the elements of the list from low to high\n",
        "t = ['d', 'c', 'e', 'b', 'a']\n",
        "t.sort()\n",
        "print(t)"
      ],
      "execution_count": null,
      "outputs": [
        {
          "output_type": "stream",
          "name": "stdout",
          "text": [
            "['a', 'b', 'c', 'd', 'e']\n"
          ]
        }
      ]
    },
    {
      "cell_type": "markdown",
      "metadata": {
        "id": "j3LaHVvcSs2x"
      },
      "source": [
        "## Deleting elements"
      ]
    },
    {
      "cell_type": "code",
      "metadata": {
        "id": "_HaZIIFTSuhp",
        "colab": {
          "base_uri": "https://localhost:8080/"
        },
        "outputId": "28a3584d-c11b-48ed-b5b0-8873dcb9a588"
      },
      "source": [
        "#There are several ways to delete elements from a list. If you know the index of the\n",
        "#element you want, you can use pop:\n",
        "t = ['a', 'b', 'c']\n",
        "x = t.pop(0)\n",
        "print(t)"
      ],
      "execution_count": null,
      "outputs": [
        {
          "output_type": "stream",
          "name": "stdout",
          "text": [
            "['b', 'c']\n"
          ]
        }
      ]
    },
    {
      "cell_type": "markdown",
      "metadata": {
        "id": "oHM8ajO5S7RS"
      },
      "source": [
        "pop modifies the list and returns the element that was removed. If you don’t\n",
        "provide an index, it deletes and returns the last element."
      ]
    },
    {
      "cell_type": "code",
      "metadata": {
        "id": "xvj7TVgaS_by",
        "colab": {
          "base_uri": "https://localhost:8080/"
        },
        "outputId": "406b7604-c0a5-48cf-f38a-0133de4c4d95"
      },
      "source": [
        "# If you don’t need the removed value, you can use the del operator:\n",
        "t = ['a', 'b', 'c']\n",
        "del t[1]\n",
        "print(t)"
      ],
      "execution_count": null,
      "outputs": [
        {
          "output_type": "stream",
          "name": "stdout",
          "text": [
            "['a', 'c']\n"
          ]
        }
      ]
    },
    {
      "cell_type": "code",
      "metadata": {
        "id": "8IKHnuOvTIsy",
        "colab": {
          "base_uri": "https://localhost:8080/"
        },
        "outputId": "70c5a621-ae7f-47b2-8160-70b98d5c2809"
      },
      "source": [
        "# If you know the element you want to remove (but not the index), you can use\n",
        "# remove:\n",
        "t = ['a', 'b', 'c']\n",
        "t.remove('b')\n",
        "print(t)\n",
        "\n",
        "# The return value from remove is None."
      ],
      "execution_count": null,
      "outputs": [
        {
          "output_type": "stream",
          "name": "stdout",
          "text": [
            "['a', 'c']\n"
          ]
        }
      ]
    },
    {
      "cell_type": "code",
      "metadata": {
        "id": "Ym9dbrL9TUb0",
        "colab": {
          "base_uri": "https://localhost:8080/"
        },
        "outputId": "6b2c3220-a90d-4b56-b689-03b7c2215775"
      },
      "source": [
        "# To remove more than one element, you can use del with a slice index\n",
        "\n",
        "t = ['a', 'b', 'c', 'd', 'e', 'f']\n",
        "del t[1:5]\n",
        "print(t)"
      ],
      "execution_count": null,
      "outputs": [
        {
          "output_type": "stream",
          "name": "stdout",
          "text": [
            "['a', 'f']\n"
          ]
        }
      ]
    },
    {
      "cell_type": "markdown",
      "metadata": {
        "id": "UzOvsfIlT6pD"
      },
      "source": [
        "##Lists and functions\n",
        "\n",
        "There are a number of built-in functions that can be used on lists that allow you to quickly look through a list without writing your own loops:"
      ]
    },
    {
      "cell_type": "code",
      "metadata": {
        "id": "KWwjZoF3T7x2",
        "colab": {
          "base_uri": "https://localhost:8080/"
        },
        "outputId": "47ccf590-6efb-438f-943a-99385177c676"
      },
      "source": [
        "nums = [3, 41, 12, 9, 74, 15]\n",
        "print(len(nums))\n",
        "print(max(nums))\n",
        "print(min(nums))\n",
        "print(sum(nums))\n",
        "print(sum(nums)/len(nums))"
      ],
      "execution_count": null,
      "outputs": [
        {
          "output_type": "stream",
          "name": "stdout",
          "text": [
            "6\n",
            "74\n",
            "3\n",
            "154\n",
            "25.666666666666668\n"
          ]
        }
      ]
    },
    {
      "cell_type": "code",
      "metadata": {
        "id": "MNaW1zEUUUF-",
        "colab": {
          "base_uri": "https://localhost:8080/"
        },
        "outputId": "6b74d7b3-18d9-4701-971e-3d206342e791"
      },
      "source": [
        "# We could rewrite an earlier program that computed the average of a list of numbers\n",
        "# entered by the user using a list.\n",
        "# First, the program to compute an average without a list:\n",
        "\n",
        "total = 0\n",
        "count = 0\n",
        "while True:\n",
        "  inp = input('Enter a number: ')\n",
        "  if inp == 'done': \n",
        "    break\n",
        "  value = float(inp)\n",
        "  total = total + value\n",
        "  count = count + 1\n",
        "\n",
        "average = total / count\n",
        "print('Average:', average)"
      ],
      "execution_count": null,
      "outputs": [
        {
          "output_type": "stream",
          "name": "stdout",
          "text": [
            "Enter a number: 4\n",
            "Enter a number: 5\n",
            "Enter a number: 7\n",
            "Enter a number: done\n",
            "Average: 5.333333333333333\n"
          ]
        }
      ]
    },
    {
      "cell_type": "markdown",
      "metadata": {
        "id": "38OSK8GIUo1d"
      },
      "source": [
        "In this program, we have count and total variables to keep the number and\n",
        "running total of the user’s numbers as we repeatedly prompt the user for a number.\n",
        "We could simply remember each number as the user entered it and use built-in\n",
        "functions to compute the sum and count at the end."
      ]
    },
    {
      "cell_type": "code",
      "metadata": {
        "id": "BQAhFsE7Uw2O",
        "colab": {
          "base_uri": "https://localhost:8080/"
        },
        "outputId": "f30ceac1-fb3b-45b8-efd5-1b7d1f0b838c"
      },
      "source": [
        "numlist = list()\n",
        "while True:\n",
        "  inp = input('Enter a number: ')\n",
        "  if inp == 'done': \n",
        "    break\n",
        "  value = float(inp)\n",
        "  numlist.append(value)\n",
        "\n",
        "average = sum(numlist) / len(numlist)\n",
        "print('Average:', average)"
      ],
      "execution_count": null,
      "outputs": [
        {
          "output_type": "stream",
          "name": "stdout",
          "text": [
            "Enter a number: 1\n",
            "Enter a number: 2\n",
            "Enter a number: 3\n",
            "Enter a number: done\n",
            "Average: 2.0\n"
          ]
        }
      ]
    },
    {
      "cell_type": "code",
      "metadata": {
        "colab": {
          "base_uri": "https://localhost:8080/"
        },
        "id": "7Y7KztGh66KN",
        "outputId": "27cf722a-4820-4ac2-ed40-6d4388682e31"
      },
      "source": [
        "numlist"
      ],
      "execution_count": null,
      "outputs": [
        {
          "output_type": "execute_result",
          "data": {
            "text/plain": [
              "[2.0, 5.0, 7.0]"
            ]
          },
          "metadata": {},
          "execution_count": 51
        }
      ]
    },
    {
      "cell_type": "markdown",
      "metadata": {
        "id": "R4lFgFg4U-Se"
      },
      "source": [
        "We make an empty list before the loop starts, and then each time we have a number, we append it to the list. At the end of the program, we simply compute the sum of the numbers in the list and divide it by the count of the numbers in the list to come up with the average."
      ]
    },
    {
      "cell_type": "markdown",
      "metadata": {
        "id": "TH-XVbz8VHXD"
      },
      "source": [
        "##Lists and strings"
      ]
    },
    {
      "cell_type": "markdown",
      "metadata": {
        "id": "3ut15U5pVLgi"
      },
      "source": [
        "A string is a sequence of characters and a list is a sequence of values, but a list\n",
        "of characters is not the same as a string. To convert from a string to a list of\n",
        "characters, you can use list:"
      ]
    },
    {
      "cell_type": "code",
      "metadata": {
        "id": "IF6yvo_2VOge",
        "colab": {
          "base_uri": "https://localhost:8080/"
        },
        "outputId": "67609b73-0e2f-44a3-f5ed-dcc17c275e98"
      },
      "source": [
        "s = 'spam'\n",
        "t = list(s)\n",
        "print(t)"
      ],
      "execution_count": null,
      "outputs": [
        {
          "output_type": "stream",
          "name": "stdout",
          "text": [
            "['s', 'p', 'a', 'm']\n"
          ]
        }
      ]
    },
    {
      "cell_type": "markdown",
      "metadata": {
        "id": "17HnsqaOVXQK"
      },
      "source": [
        "The list function breaks a string into individual letters. If you want to break a string into words, you can use the **`split method`**"
      ]
    },
    {
      "cell_type": "code",
      "metadata": {
        "id": "488S6jMDVblY",
        "colab": {
          "base_uri": "https://localhost:8080/"
        },
        "outputId": "321a4ca7-64b1-4007-fad9-0df4553183c5"
      },
      "source": [
        "s = 'pining for the fjords'\n",
        "t = s.split()\n",
        "print(t)\n",
        "print(t[2])"
      ],
      "execution_count": null,
      "outputs": [
        {
          "output_type": "stream",
          "name": "stdout",
          "text": [
            "['pining', 'for', 'the', 'fjords']\n",
            "the\n"
          ]
        }
      ]
    },
    {
      "cell_type": "markdown",
      "metadata": {
        "id": "88XXbwpPVitT"
      },
      "source": [
        "You can call **`split`** with an optional argument called a delimiter that specifies which characters to use as word boundaries. The following example uses a hyphen as a delimiter:"
      ]
    },
    {
      "cell_type": "code",
      "metadata": {
        "id": "MDS_T2qCVrWv",
        "colab": {
          "base_uri": "https://localhost:8080/"
        },
        "outputId": "8e22dd80-5696-4cd8-9f0c-06e44ed23bf6"
      },
      "source": [
        "s = 'spam-spam-spam'\n",
        "delimiter = '-'\n",
        "s.split(delimiter)"
      ],
      "execution_count": null,
      "outputs": [
        {
          "output_type": "execute_result",
          "data": {
            "text/plain": [
              "['spam', 'spam', 'spam']"
            ]
          },
          "metadata": {},
          "execution_count": 43
        }
      ]
    },
    {
      "cell_type": "markdown",
      "metadata": {
        "id": "jz2X_78HVvax"
      },
      "source": [
        "**`join`** is the inverse of split. It takes a list of strings and concatenates the elements. join is a string method, so you have to invoke it on the delimiter and pass the list as a parameter:"
      ]
    },
    {
      "cell_type": "code",
      "metadata": {
        "id": "F7fkGGoOV0np",
        "colab": {
          "base_uri": "https://localhost:8080/",
          "height": 36
        },
        "outputId": "3f356f5f-283b-4aad-b769-5a224c3579d2"
      },
      "source": [
        "t = ['pining', 'for', 'the', 'fjords']\n",
        "delimiter = ' '\n",
        "delimiter.join(t)"
      ],
      "execution_count": null,
      "outputs": [
        {
          "output_type": "execute_result",
          "data": {
            "application/vnd.google.colaboratory.intrinsic+json": {
              "type": "string"
            },
            "text/plain": [
              "'pining for the fjords'"
            ]
          },
          "metadata": {},
          "execution_count": 10
        }
      ]
    },
    {
      "cell_type": "markdown",
      "metadata": {
        "id": "X80MGPVvWBvk"
      },
      "source": [
        "## Parsing lines\n",
        "\n",
        "Usually when we are reading a file we want to do something to the lines other than just printing the whole line. Often we want to find the “interesting lines” and then parse the line to find some interesting part of the line. What if we wanted to print out the day of the week from those lines that start with “From”?\n",
        "```\n",
        "From stephen.marquard@uct.ac.za Sat Jan 5 09:14:16 2008\n",
        "```\n",
        "\n",
        "The split method is very effective when faced with this kind of problem. We can\n",
        "write a small program that looks for lines where the line starts with “From”, **`split`** those lines, and then print out the third word in the line:"
      ]
    },
    {
      "cell_type": "code",
      "metadata": {
        "id": "2JgUR80jWUXI"
      },
      "source": [
        "fhand = open('mbox-short.txt')\n",
        "for line in fhand:\n",
        "  line = line.rstrip()\n",
        "  if line.startswith('From '): \n",
        "    words = line.split()\n",
        "    print(words[2])"
      ],
      "execution_count": null,
      "outputs": []
    },
    {
      "cell_type": "code",
      "metadata": {
        "id": "XrvUzLit9MyX"
      },
      "source": [
        "#### Append into list\n",
        "\n",
        "week_day = list()\n",
        "\n",
        "fhand = open('mbox-short.txt')\n",
        "for line in fhand:\n",
        "  line = line.rstrip()\n",
        "  if line.startswith('From '): \n",
        "    words = line.split()\n",
        "    week_day.append(words[2])\n",
        "\n",
        "week_day    "
      ],
      "execution_count": null,
      "outputs": []
    },
    {
      "cell_type": "code",
      "metadata": {
        "id": "6b1M8bvQJPsX"
      },
      "source": [
        "#1no solution\n",
        "file= open('mbox-short.txt')\n",
        "for line in file:\n",
        "  line=line.strip()\n",
        "  line=line.upper()\n",
        "  print(line)"
      ],
      "execution_count": null,
      "outputs": []
    },
    {
      "cell_type": "code",
      "metadata": {
        "id": "0GxZB0zSLD51"
      },
      "source": [
        "#2no solution\n",
        "numlist=list()\n",
        "floats =[]\n",
        "inp = input(\"Enter file name: \")\n",
        "file = open(inp)\n",
        "for line in file:\n",
        "  if line.startswith('X-DSPAM-Confidence:'):\n",
        "    word=line.split()\n",
        "    numlist.append(word[1])\n",
        "    for element in numlist:\n",
        "      floats.append(float(element))\n",
        "print(numlist)\n",
        "print(floats)\n",
        "avg=(sum(floats))/(len(floats))\n",
        "print(\"Average: %.4f\"%avg)\n",
        "\n"
      ],
      "execution_count": null,
      "outputs": []
    },
    {
      "cell_type": "code",
      "metadata": {
        "id": "Zva4swjhU64_",
        "colab": {
          "base_uri": "https://localhost:8080/"
        },
        "outputId": "ef576d80-3a5d-407b-b260-d3bf37e63fa7"
      },
      "source": [
        "#3no solution\n",
        "inp = input(\"Enter file name: \")\n",
        "file = open(inp)\n",
        "words=list()\n",
        "u_words=list()\n",
        "for line in file:\n",
        "  line=line.split()\n",
        "  for word in line:\n",
        "    words.append(word)\n",
        "    if word not in u_words:\n",
        "      u_words.append(word)\n",
        "print(words)\n",
        "print(len(words))\n",
        "u_words.sort()\n",
        "print(u_words)\n",
        "print(len(u_words))  "
      ],
      "execution_count": null,
      "outputs": [
        {
          "output_type": "stream",
          "name": "stdout",
          "text": [
            "Enter file name: romeo.txt\n",
            "['But', 'soft', 'what', 'light', 'through', 'yonder', 'window', 'breaks', 'It', 'is', 'the', 'east', 'and', 'Juliet', 'is', 'the', 'sun', 'Arise', 'fair', 'sun', 'and', 'kill', 'the', 'envious', 'moon', 'Who', 'is', 'already', 'sick', 'and', 'pale', 'with', 'grief']\n",
            "33\n",
            "['Arise', 'But', 'It', 'Juliet', 'Who', 'already', 'and', 'breaks', 'east', 'envious', 'fair', 'grief', 'is', 'kill', 'light', 'moon', 'pale', 'sick', 'soft', 'sun', 'the', 'through', 'what', 'window', 'with', 'yonder']\n",
            "26\n"
          ]
        }
      ]
    },
    {
      "cell_type": "code",
      "metadata": {
        "id": "tq7jVruPeeIo",
        "colab": {
          "base_uri": "https://localhost:8080/"
        },
        "outputId": "5ca4f88c-ae31-401d-9125-f7fa936d34d5"
      },
      "source": [
        "#4no solution\n",
        "stp = [\"But\",'is','the','with','and'] \n",
        "inp = input(\"Enter file name: \")\n",
        "file = open(inp)\n",
        "words=list()\n",
        "for line in file:\n",
        "  line=line.split()\n",
        "  for word in line:\n",
        "    words.append(word)\n",
        "print(words)\n",
        "print(len(words))\n",
        "words.remove('But')\n",
        "words.remove('is')\n",
        "words.remove('the')\n",
        "words.remove('with')\n",
        "words.remove('and')\n",
        "print(words)\n",
        "print(len(words))\n",
        "resultwords  = [dword for dword in words if dword.lower() not in stp]\n",
        "print (resultwords)\n",
        "print(len(resultwords))\n",
        "\n",
        " \n",
        "    "
      ],
      "execution_count": null,
      "outputs": [
        {
          "output_type": "stream",
          "name": "stdout",
          "text": [
            "Enter file name: romeo.txt\n",
            "['But', 'soft', 'what', 'light', 'through', 'yonder', 'window', 'breaks', 'It', 'is', 'the', 'east', 'and', 'Juliet', 'is', 'the', 'sun', 'Arise', 'fair', 'sun', 'and', 'kill', 'the', 'envious', 'moon', 'Who', 'is', 'already', 'sick', 'and', 'pale', 'with', 'grief']\n",
            "33\n",
            "['soft', 'what', 'light', 'through', 'yonder', 'window', 'breaks', 'It', 'east', 'Juliet', 'is', 'the', 'sun', 'Arise', 'fair', 'sun', 'and', 'kill', 'the', 'envious', 'moon', 'Who', 'is', 'already', 'sick', 'and', 'pale', 'grief']\n",
            "28\n",
            "['soft', 'what', 'light', 'through', 'yonder', 'window', 'breaks', 'It', 'east', 'Juliet', 'sun', 'Arise', 'fair', 'sun', 'kill', 'envious', 'moon', 'Who', 'already', 'sick', 'pale', 'grief']\n",
            "22\n"
          ]
        }
      ]
    },
    {
      "cell_type": "code",
      "metadata": {
        "id": "9BmPldpquHOc"
      },
      "source": [
        "stopwords=['what','who','and','a','at','is','am']\n",
        "query=\"What is hello','Ask in the community','my name is Alan and I am coming from London\"\n",
        "\n",
        "querywords = query.split()\n",
        "print(querywords)\n",
        "resultwords  = [word for word in querywords if word.lower() not in stopwords]\n",
        "result = ' '.join(resultwords)\n",
        "\n",
        "print (result)"
      ],
      "execution_count": null,
      "outputs": []
    },
    {
      "cell_type": "code",
      "metadata": {
        "id": "Ar0GyDJWL-oQ",
        "colab": {
          "base_uri": "https://localhost:8080/"
        },
        "outputId": "dd81f44e-37fd-4004-b136-60b95295337c"
      },
      "source": [
        "#6no solution\n",
        "numlist = list()\n",
        "while True:\n",
        "  inp=input(\"Enter a number: \")\n",
        "  if inp == 'done':\n",
        "    break\n",
        "  num=float(inp)\n",
        "  numlist.append(num)\n",
        "\n",
        "maximum=max(numlist)\n",
        "minimum=min(numlist)\n",
        "print(\"Maximum: \",maximum)\n",
        "print(\"Minimum: \",minimum)"
      ],
      "execution_count": null,
      "outputs": [
        {
          "output_type": "stream",
          "name": "stdout",
          "text": [
            "Enter a number: 12\n",
            "Enter a number: 45\n",
            "Enter a number: 233\n",
            "Enter a number: 3\n",
            "Enter a number: done\n",
            "Maximum:  233.0\n",
            "Minimum:  3.0\n"
          ]
        }
      ]
    },
    {
      "cell_type": "code",
      "metadata": {
        "id": "A7qP7BNYNOxb",
        "colab": {
          "base_uri": "https://localhost:8080/"
        },
        "outputId": "78e5f819-3121-4ded-9036-834cda766a15"
      },
      "source": [
        "#5no solution\n",
        "inp = input(\"Enter file name: \")\n",
        "file = open(inp)\n",
        "words=list()\n",
        "count=0\n",
        "for line in file:\n",
        "  if line.startswith('From'):\n",
        "    word=line.split()\n",
        "    words.append(word[1])\n",
        "    print(word[1])\n",
        "    count=count+1\n",
        "print(f\"There are {count} lines starting with From.\")\n",
        "\n"
      ],
      "execution_count": null,
      "outputs": [
        {
          "output_type": "stream",
          "name": "stdout",
          "text": [
            "Enter file name: mbox-short.txt\n",
            "stephen.marquard@uct.ac.za\n",
            "stephen.marquard@uct.ac.za\n",
            "louis@media.berkeley.edu\n",
            "louis@media.berkeley.edu\n",
            "zqian@umich.edu\n",
            "zqian@umich.edu\n",
            "rjlowe@iupui.edu\n",
            "rjlowe@iupui.edu\n",
            "zqian@umich.edu\n",
            "zqian@umich.edu\n",
            "rjlowe@iupui.edu\n",
            "rjlowe@iupui.edu\n",
            "cwen@iupui.edu\n",
            "cwen@iupui.edu\n",
            "cwen@iupui.edu\n",
            "cwen@iupui.edu\n",
            "gsilver@umich.edu\n",
            "gsilver@umich.edu\n",
            "gsilver@umich.edu\n",
            "gsilver@umich.edu\n",
            "zqian@umich.edu\n",
            "zqian@umich.edu\n",
            "gsilver@umich.edu\n",
            "gsilver@umich.edu\n",
            "wagnermr@iupui.edu\n",
            "wagnermr@iupui.edu\n",
            "zqian@umich.edu\n",
            "zqian@umich.edu\n",
            "antranig@caret.cam.ac.uk\n",
            "antranig@caret.cam.ac.uk\n",
            "gopal.ramasammycook@gmail.com\n",
            "gopal.ramasammycook@gmail.com\n",
            "david.horwitz@uct.ac.za\n",
            "david.horwitz@uct.ac.za\n",
            "david.horwitz@uct.ac.za\n",
            "david.horwitz@uct.ac.za\n",
            "david.horwitz@uct.ac.za\n",
            "david.horwitz@uct.ac.za\n",
            "david.horwitz@uct.ac.za\n",
            "david.horwitz@uct.ac.za\n",
            "stephen.marquard@uct.ac.za\n",
            "stephen.marquard@uct.ac.za\n",
            "louis@media.berkeley.edu\n",
            "louis@media.berkeley.edu\n",
            "louis@media.berkeley.edu\n",
            "louis@media.berkeley.edu\n",
            "ray@media.berkeley.edu\n",
            "ray@media.berkeley.edu\n",
            "cwen@iupui.edu\n",
            "cwen@iupui.edu\n",
            "cwen@iupui.edu\n",
            "cwen@iupui.edu\n",
            "cwen@iupui.edu\n",
            "cwen@iupui.edu\n",
            "There are 54 lines starting with From.\n"
          ]
        }
      ]
    },
    {
      "cell_type": "markdown",
      "metadata": {
        "id": "thgufqabF0gp"
      },
      "source": [
        "#Practice Excercises\n",
        "1. Write a program to read through a file and print the contents\n",
        "of the file (line by line) all in upper case. Executing the program will\n",
        "look as follows: (mbox-data)\n",
        "```\n",
        "Enter a file name: mbox-short.txt\n",
        "FROM STEPHEN.MARQUARD@UCT.AC.ZA SAT JAN 5 09:14:16 2008\n",
        "RETURN-PATH: <POSTMASTER@COLLAB.SAKAIPROJECT.ORG>\n",
        "RECEIVED: FROM MURDER (MAIL.UMICH.EDU [141.211.14.90])\n",
        "BY FRANKENSTEIN.MAIL.UMICH.EDU (CYRUS V2.3.8) WITH LMTPA;\n",
        "SAT, 05 JAN 2008 09:14:16 -0500\n",
        "```\n",
        "\n",
        "2. Write a program to prompt for a file name, and then read\n",
        "through the file and look for lines of the form: \n",
        "  ```\n",
        "  X-DSPAM-Confidence: 0.8475\n",
        "```\n",
        "When you encounter a line that starts with “X-DSPAM-Confidence:”\n",
        "pull apart the line to extract the floating-point number on the line.\n",
        "Count these lines and then compute the total of the spam confidence \n",
        "values from these lines. When you reach the end of the file, print out\n",
        "the average spam confidence. (mbox data)\n",
        "\n",
        "3. **Find all unique words in a file.** Shakespeare used over 20,000 words in his works. But how would you\n",
        "determine that? How would you produce the list of all the words that\n",
        "Shakespeare used? Would you download all his work, read it and track\n",
        "all unique words by hand?\n",
        "Let’s use Python to achieve that instead. List all unique words, sorted\n",
        "in alphabetical order, that are stored in a file romeo.txt containing a\n",
        "subset of Shakespeare’s work. To get started, download a copy of the file(https://www.py4e.com/code3/romeo.txt).\n",
        "Create a list of unique words, which will contain the final result. Write\n",
        "a program to open the file romeo.txt and read it line by line. For each\n",
        "line, split the line into a list of words using the split function. For\n",
        "each word, check to see if the word is already in the list of unique\n",
        "words. If the word is not in the list of unique words, add it to the list.\n",
        "When the program completes, sort and print the list of unique words\n",
        "in alphabetical order.\n",
        "\n",
        "  ```\n",
        "  Enter file: romeo.txt\n",
        "  ['Arise', 'But', 'It', 'Juliet', 'Who', 'already',\n",
        "  'and', 'breaks', 'east', 'envious', 'fair', 'grief',\n",
        "  'is', 'kill', 'light', 'moon', 'pale', 'sick', 'soft',\n",
        "  'sun', 'the', 'through', 'what', 'window',\n",
        "  'with', 'yonder']\n",
        "\n",
        "  ```\n",
        "\n",
        "4. **Remove the following stopwords** from the romeo.txt file and then find the list of unique words.\n",
        "```\n",
        "stp = [\"But\",'is','the','with','and']  \n",
        "```\n",
        "Output:\n",
        "  ```\n",
        "  soft what light through yonder window breaks\n",
        "  It east Juliet sun\n",
        "  Arise fair sun kill envious moon\n",
        "  Who already sick pale grief\n",
        "```\n",
        "\n",
        "5. **Minimalist Email Client.**\n",
        "MBOX (mail box) is a popular file format to store and share a collection\n",
        "of emails. This was used by early email servers and desktop apps.\n",
        "Without getting into too many details, MBOX is a text file, which\n",
        "stores emails consecutively. Emails are separated by a special line which\n",
        "starts with From (notice the space). Importantly, lines starting with\n",
        "From: (notice the colon) describes the email itself and does not act as\n",
        "a separator. Imagine you wrote a minimalist email app, that lists the\n",
        "email of the senders in the user’s Inbox and counts the number of emails.\n",
        "Write a program to read through the mail box data and when you find\n",
        "line that starts with “From”, you will split the line into words using the\n",
        "split function. We are interested in who sent the message, which is the\n",
        "second word on the From line. (mbox-data)\n",
        "```\n",
        "From stephen.marquard@uct.ac.za Sat Jan 5 09:14:16 2008\n",
        "```\n",
        "You will parse the From line and print out the second word for each\n",
        "From line, then you will also count the number of From (not From:)\n",
        "lines and print out a count at the end. This is a good sample output\n",
        "with a few lines removed:\n",
        "\n",
        "  ```\n",
        "  Enter a file name: mbox-short.txt\n",
        "  stephen.marquard@uct.ac.za\n",
        "  louis@media.berkeley.edu\n",
        "  zqian@umich.edu\n",
        "  [...some output removed...]\n",
        "  ray@media.berkeley.edu\n",
        "  cwen@iupui.edu\n",
        "  cwen@iupui.edu\n",
        "  cwen@iupui.edu\n",
        "  There were 27 lines in the file with From as the first word\n",
        "  ```\n",
        "\n",
        "6. Rewrite the program that prompts the user for a list of\n",
        "numbers and prints out the maximum and minimum of the numbers at the end when the user enters “done”. Write the program to store the\n",
        "numbers the user enters in a list and use the max() and min() functions to\n",
        "compute the maximum and minimum numbers after the loop completes.\n",
        "\n",
        "  ```\n",
        "  Enter a number: 6\n",
        "  Enter a number: 2\n",
        "  Enter a number: 9\n",
        "  Enter a number: 3\n",
        "  Enter a number: 5\n",
        "  Enter a number: done\n",
        "  Maximum: 9.0\n",
        "  Minimum: 2.0\n",
        "\n",
        "  ```"
      ]
    },
    {
      "cell_type": "markdown",
      "metadata": {
        "id": "8S2gXlr9-CqC"
      },
      "source": [
        "#References:\n",
        "1. [Programiz.com](https://www.programiz.com/python-programming/operators)\n",
        "2. [Python for Everybody-Coursera](https://www.coursera.org/learn/python)"
      ]
    }
  ]
}